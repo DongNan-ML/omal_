{
 "cells": [
  {
   "cell_type": "code",
   "execution_count": 1,
   "id": "94bcde94-c5a8-498c-852e-d5fa062fdd79",
   "metadata": {},
   "outputs": [],
   "source": [
    "import numpy as np\n",
    "import pandas as pd\n",
    "from sklearn import preprocessing\n",
    "from sklearn.preprocessing import StandardScaler, MinMaxScaler, Normalizer\n",
    "from sklearn.model_selection import train_test_split"
   ]
  },
  {
   "cell_type": "code",
   "execution_count": null,
   "id": "918e21fb-64f8-48a2-9eac-522b175d3362",
   "metadata": {},
   "outputs": [],
   "source": [
    "df = pd.read_csv(\"../datasets/Graphene/Graphene_Oxide_Dataset.csv\")\n",
    "df"
   ]
  },
  {
   "cell_type": "code",
   "execution_count": null,
   "id": "1176b2a5-0e38-49a6-903f-5c00be91a076",
   "metadata": {},
   "outputs": [],
   "source": [
    "df = df.dropna(axis=1)\n",
    "df"
   ]
  },
  {
   "cell_type": "code",
   "execution_count": null,
   "id": "51f971fe-5248-40d2-8d87-8319fe8ccc82",
   "metadata": {},
   "outputs": [],
   "source": [
    "df_subset = df.drop(['file_name', 'Fermi_energy', 'total_energy'], axis=1)\n",
    "df_subset"
   ]
  },
  {
   "cell_type": "code",
   "execution_count": null,
   "id": "97f25772-33f6-4d7e-bc84-2065f9e95446",
   "metadata": {},
   "outputs": [],
   "source": [
    "data = df_subset\n",
    "labels_true = df[['Fermi_energy']]\n",
    "\n",
    "scaler = StandardScaler()\n",
    "random_seed = np.load(file=\"..\\Seeds\\seed1.npy\")\n",
    "\n",
    "for i in range(20):\n",
    "    X_train, X_test, y_train, y_test = train_test_split(data, labels_true, test_size=0.2, random_state=random_seed[i])\n",
    "    X_train = scaler.fit_transform(X_train.values.astype(np.float32))\n",
    "    X_test = scaler.transform(X_test.values.astype(np.float32))\n",
    "    \n",
    "    np.save(\"..\\datasets\\Graphene\\\\X_train\" + str(i) +\".npy\", X_train)\n",
    "    np.save(\"..\\datasets\\Graphene\\\\X_test\" + str(i) +\".npy\", X_test)\n",
    "    np.save(\"..\\datasets\\Graphene\\\\y_train\" + str(i) +\".npy\", y_train)\n",
    "    np.save(\"..\\datasets\\Graphene\\\\y_test\" + str(i) +\".npy\", y_test)"
   ]
  },
  {
   "cell_type": "code",
   "execution_count": 2,
   "id": "99b217f2-6c21-4147-a49e-1b6fa3ca3a1d",
   "metadata": {},
   "outputs": [
    {
     "name": "stdout",
     "output_type": "stream",
     "text": [
      "Iteration: 0\n",
      "(1293, 412)\n",
      "Iteration: 1\n",
      "(1293, 412)\n",
      "Iteration: 2\n",
      "(1293, 412)\n",
      "Iteration: 3\n",
      "(1293, 412)\n",
      "Iteration: 4\n",
      "(1293, 412)\n",
      "Iteration: 5\n",
      "(1293, 412)\n",
      "Iteration: 6\n",
      "(1293, 412)\n",
      "Iteration: 7\n",
      "(1293, 412)\n",
      "Iteration: 8\n",
      "(1293, 412)\n",
      "Iteration: 9\n",
      "(1293, 412)\n",
      "Iteration: 10\n",
      "(1293, 412)\n",
      "Iteration: 11\n",
      "(1293, 412)\n",
      "Iteration: 12\n",
      "(1293, 412)\n",
      "Iteration: 13\n",
      "(1293, 412)\n",
      "Iteration: 14\n",
      "(1293, 412)\n",
      "Iteration: 15\n",
      "(1293, 412)\n",
      "Iteration: 16\n",
      "(1293, 412)\n",
      "Iteration: 17\n",
      "(1293, 412)\n",
      "Iteration: 18\n",
      "(1293, 412)\n",
      "Iteration: 19\n",
      "(1293, 412)\n"
     ]
    }
   ],
   "source": [
    "from sklearn import preprocessing\n",
    "from sklearn.ensemble import RandomForestRegressor\n",
    "from sklearn.metrics import r2_score, mean_squared_error\n",
    "import numpy as np\n",
    "import pandas as pd\n",
    "\n",
    "total_test_r2 = []\n",
    "total_test_mse = []\n",
    "\n",
    "iteration = 20\n",
    "\n",
    "seed_rf = np.load(file=\"..\\Seeds\\seed2.npy\")\n",
    "\n",
    "for iters in range(iteration):\n",
    "    print(\"Iteration:\", iters)\n",
    "    name1 = \"..\\datasets\\Graphene\\X_train\" + str(iters) + \".npy\"\n",
    "    name2 = \"..\\datasets\\Graphene\\X_test\" + str(iters) + \".npy\"\n",
    "    name3 = \"..\\datasets\\Graphene\\y_train\" + str(iters) + \".npy\"\n",
    "    name4 = \"..\\datasets\\Graphene\\y_test\" + str(iters) + \".npy\"\n",
    "    \n",
    "    X_train = np.load(name1, allow_pickle=True).astype(np.float32)\n",
    "    print(X_train.shape)\n",
    "    X_test = np.load(name2, allow_pickle=True).astype(np.float32)\n",
    "    y_train = np.load(name3, allow_pickle=True).astype(np.float32).reshape(-1, 1)\n",
    "    y_test = np.load(name4, allow_pickle=True).astype(np.float32).reshape(-1, 1)\n",
    "    \n",
    "    estimator=RandomForestRegressor(n_estimators=100, random_state=seed_rf[iters])\n",
    "    estimator.fit(X_train, y_train.ravel())\n",
    "    prediction_=estimator.predict(X_test)\n",
    "    \n",
    "    total_test_r2.append(r2_score(y_test, prediction_))\n",
    "    total_test_mse.append(mean_squared_error(y_test, prediction_))"
   ]
  },
  {
   "cell_type": "code",
   "execution_count": 3,
   "id": "792da0c4-b327-455a-b07f-d6ab74d4e319",
   "metadata": {
    "tags": []
   },
   "outputs": [
    {
     "name": "stdout",
     "output_type": "stream",
     "text": [
      "Median R2: 0.9777883947147628\n",
      "Median RMSE: 0.03544042317770556\n"
     ]
    }
   ],
   "source": [
    "print(\"Median R2:\", np.mean(np.array(total_test_r2)))\n",
    "print(\"Median RMSE:\", np.mean(np.sqrt(np.array(total_test_mse))))"
   ]
  },
  {
   "cell_type": "code",
   "execution_count": null,
   "id": "4259f91d-5cc8-4376-b8f9-9bec86915305",
   "metadata": {},
   "outputs": [],
   "source": []
  }
 ],
 "metadata": {
  "kernelspec": {
   "display_name": "Python 3 (ipykernel)",
   "language": "python",
   "name": "python3"
  },
  "language_info": {
   "codemirror_mode": {
    "name": "ipython",
    "version": 3
   },
   "file_extension": ".py",
   "mimetype": "text/x-python",
   "name": "python",
   "nbconvert_exporter": "python",
   "pygments_lexer": "ipython3",
   "version": "3.11.5"
  }
 },
 "nbformat": 4,
 "nbformat_minor": 5
}
